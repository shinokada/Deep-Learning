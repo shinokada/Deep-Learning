{
 "cells": [
  {
   "cell_type": "code",
   "execution_count": 1,
   "metadata": {},
   "outputs": [
    {
     "name": "stderr",
     "output_type": "stream",
     "text": [
      "/Users/wajdiahmed/anaconda3/lib/python3.6/site-packages/h5py/__init__.py:34: FutureWarning: Conversion of the second argument of issubdtype from `float` to `np.floating` is deprecated. In future, it will be treated as `np.float64 == np.dtype(float).type`.\n",
      "  from ._conv import register_converters as _register_converters\n",
      "Using TensorFlow backend.\n"
     ]
    }
   ],
   "source": [
    "from keras.datasets import fashion_mnist\n",
    "(train_X,train_Y), (test_X,test_Y) = fashion_mnist.load_data()\n"
   ]
  },
  {
   "cell_type": "code",
   "execution_count": 2,
   "metadata": {},
   "outputs": [
    {
     "name": "stdout",
     "output_type": "stream",
     "text": [
      "Training data shape :  (60000, 28, 28) (60000,)\n",
      "Testing data shape :  (10000, 28, 28) (10000,)\n"
     ]
    }
   ],
   "source": [
    "import numpy as np\n",
    "from keras.utils import to_categorical\n",
    "import matplotlib.pyplot as plt\n",
    "%matplotlib inline\n",
    "\n",
    "print('Training data shape : ', train_X.shape, train_Y.shape)\n",
    "\n",
    "print('Testing data shape : ', test_X.shape, test_Y.shape)"
   ]
  },
  {
   "cell_type": "code",
   "execution_count": 3,
   "metadata": {},
   "outputs": [
    {
     "name": "stdout",
     "output_type": "stream",
     "text": [
      "Total number of outputs :  10\n",
      "Output classes :  [0 1 2 3 4 5 6 7 8 9]\n"
     ]
    }
   ],
   "source": [
    "# Find the unique numbers from the train labels\n",
    "classes = np.unique(train_Y)\n",
    "nClasses = len(classes)\n",
    "print('Total number of outputs : ', nClasses)\n",
    "print('Output classes : ', classes)"
   ]
  },
  {
   "cell_type": "code",
   "execution_count": 4,
   "metadata": {},
   "outputs": [
    {
     "data": {
      "text/plain": [
       "Text(0.5,1,'Ground Truth : 9')"
      ]
     },
     "execution_count": 4,
     "metadata": {},
     "output_type": "execute_result"
    },
    {
     "data": {
      "image/png": "[encoded data removed]",
      "text/plain": [
       "<matplotlib.figure.Figure at 0xb21fe3048>"
      ]
     },
     "metadata": {},
     "output_type": "display_data"
    }
   ],
   "source": [
    "plt.figure(figsize=[5,5])\n",
    "\n",
    "# Display the first image in training data\n",
    "plt.subplot(121)\n",
    "plt.imshow(train_X[0,:,:], cmap='gray')\n",
    "plt.title(\"Ground Truth : {}\".format(train_Y[0]))\n",
    "\n",
    "# Display the first image in testing data\n",
    "plt.subplot(122)\n",
    "plt.imshow(test_X[0,:,:], cmap='gray')\n",
    "plt.title(\"Ground Truth : {}\".format(test_Y[0]))"
   ]
  },
  {
   "cell_type": "code",
   "execution_count": 5,
   "metadata": {},
   "outputs": [
    {
     "data": {
      "text/plain": [
       "((60000, 28, 28, 1), (10000, 28, 28, 1))"
      ]
     },
     "execution_count": 5,
     "metadata": {},
     "output_type": "execute_result"
    }
   ],
   "source": [
    "train_X = train_X.reshape(-1, 28,28, 1)\n",
    "test_X = test_X.reshape(-1, 28,28, 1)\n",
    "train_X.shape, test_X.shape"
   ]
  },
  {
   "cell_type": "code",
   "execution_count": 6,
   "metadata": {
    "collapsed": true
   },
   "outputs": [],
   "source": [
    "train_X = train_X.astype('float32')\n",
    "test_X = test_X.astype('float32')\n",
    "train_X = train_X / 255.\n",
    "test_X = test_X / 255."
   ]
  },
  {
   "cell_type": "code",
   "execution_count": 7,
   "metadata": {},
   "outputs": [
    {
     "name": "stdout",
     "output_type": "stream",
     "text": [
      "Original label: 9\n",
      "After conversion to one-hot: [0. 0. 0. 0. 0. 0. 0. 0. 0. 1.]\n"
     ]
    }
   ],
   "source": [
    "# Change the labels from categorical to one-hot encoding\n",
    "train_Y_one_hot = to_categorical(train_Y)\n",
    "test_Y_one_hot = to_categorical(test_Y)\n",
    "\n",
    "# Display the change for category label using one-hot encoding\n",
    "print('Original label:', train_Y[0])\n",
    "print('After conversion to one-hot:', train_Y_one_hot[0])"
   ]
  },
  {
   "cell_type": "code",
   "execution_count": 8,
   "metadata": {
    "collapsed": true
   },
   "outputs": [],
   "source": [
    "from sklearn.model_selection import train_test_split\n",
    "train_X,valid_X,train_label,valid_label = train_test_split(train_X, train_Y_one_hot, test_size=0.2, random_state=13)"
   ]
  },
  {
   "cell_type": "code",
   "execution_count": 9,
   "metadata": {
    "collapsed": true
   },
   "outputs": [],
   "source": [
    "import keras\n",
    "from keras.models import Sequential,Input,Model\n",
    "from keras.layers import Dense, Dropout, Flatten\n",
    "from keras.layers import Conv2D, MaxPooling2D\n",
    "from keras.layers.normalization import BatchNormalization\n",
    "from keras.layers.advanced_activations import LeakyReLU"
   ]
  },
  {
   "cell_type": "code",
   "execution_count": 10,
   "metadata": {
    "collapsed": true
   },
   "outputs": [],
   "source": [
    "batch_size = 64\n",
    "epochs = 20\n",
    "num_classes = 10\n"
   ]
  },
  {
   "cell_type": "code",
   "execution_count": 11,
   "metadata": {
    "collapsed": true
   },
   "outputs": [],
   "source": [
    "fashion_model = Sequential()\n",
    "fashion_model.add(Conv2D(32, kernel_size=(3, 3),activation='linear',input_shape=(28,28,1),padding='same'))\n",
    "fashion_model.add(LeakyReLU(alpha=0.1))\n",
    "fashion_model.add(MaxPooling2D((2, 2),padding='same'))\n",
    "fashion_model.add(Conv2D(64, (3, 3), activation='linear',padding='same'))\n",
    "fashion_model.add(LeakyReLU(alpha=0.1))\n",
    "fashion_model.add(MaxPooling2D(pool_size=(2, 2),padding='same'))\n",
    "fashion_model.add(Conv2D(128, (3, 3), activation='linear',padding='same'))\n",
    "fashion_model.add(LeakyReLU(alpha=0.1))                  \n",
    "fashion_model.add(MaxPooling2D(pool_size=(2, 2),padding='same'))\n",
    "fashion_model.add(Flatten())\n",
    "fashion_model.add(Dense(128, activation='linear'))\n",
    "fashion_model.add(LeakyReLU(alpha=0.1))                  \n",
    "fashion_model.add(Dense(num_classes, activation='softmax'))"
   ]
  },
  {
   "cell_type": "code",
   "execution_count": 12,
   "metadata": {
    "collapsed": true
   },
   "outputs": [],
   "source": [
    "fashion_model.compile(loss=keras.losses.categorical_crossentropy, optimizer=keras.optimizers.Adam(),metrics=['accuracy'])"
   ]
  },
  {
   "cell_type": "code",
   "execution_count": 13,
   "metadata": {},
   "outputs": [
    {
     "name": "stdout",
     "output_type": "stream",
     "text": [
      "_________________________________________________________________\n",
      "Layer (type)                 Output Shape              Param #   \n",
      "=================================================================\n",
      "conv2d_1 (Conv2D)            (None, 28, 28, 32)        320       \n",
      "_________________________________________________________________\n",
      "leaky_re_lu_1 (LeakyReLU)    (None, 28, 28, 32)        0         \n",
      "_________________________________________________________________\n",
      "max_pooling2d_1 (MaxPooling2 (None, 14, 14, 32)        0         \n",
      "_________________________________________________________________\n",
      "conv2d_2 (Conv2D)            (None, 14, 14, 64)        18496     \n",
      "_________________________________________________________________\n",
      "leaky_re_lu_2 (LeakyReLU)    (None, 14, 14, 64)        0         \n",
      "_________________________________________________________________\n",
      "max_pooling2d_2 (MaxPooling2 (None, 7, 7, 64)          0         \n",
      "_________________________________________________________________\n",
      "conv2d_3 (Conv2D)            (None, 7, 7, 128)         73856     \n",
      "_________________________________________________________________\n",
      "leaky_re_lu_3 (LeakyReLU)    (None, 7, 7, 128)         0         \n",
      "_________________________________________________________________\n",
      "max_pooling2d_3 (MaxPooling2 (None, 4, 4, 128)         0         \n",
      "_________________________________________________________________\n",
      "flatten_1 (Flatten)          (None, 2048)              0         \n",
      "_________________________________________________________________\n",
      "dense_1 (Dense)              (None, 128)               262272    \n",
      "_________________________________________________________________\n",
      "leaky_re_lu_4 (LeakyReLU)    (None, 128)               0         \n",
      "_________________________________________________________________\n",
      "dense_2 (Dense)              (None, 10)                1290      \n",
      "=================================================================\n",
      "Total params: 356,234\n",
      "Trainable params: 356,234\n",
      "Non-trainable params: 0\n",
      "_________________________________________________________________\n"
     ]
    }
   ],
   "source": [
    "fashion_model.summary()"
   ]
  },
  {
   "cell_type": "code",
   "execution_count": 14,
   "metadata": {},
   "outputs": [
    {
     "name": "stdout",
     "output_type": "stream",
     "text": [
      "Train on 48000 samples, validate on 12000 samples\n",
      "Epoch 1/20\n",
      "48000/48000 [==============================] - 67s 1ms/step - loss: 0.4607 - acc: 0.8339 - val_loss: 0.3124 - val_acc: 0.8892\n",
      "Epoch 2/20\n",
      "48000/48000 [==============================] - 70s 1ms/step - loss: 0.2864 - acc: 0.8958 - val_loss: 0.2718 - val_acc: 0.9008\n",
      "Epoch 3/20\n",
      "48000/48000 [==============================] - 72s 2ms/step - loss: 0.2406 - acc: 0.9113 - val_loss: 0.2402 - val_acc: 0.9132\n",
      "Epoch 4/20\n",
      "48000/48000 [==============================] - 69s 1ms/step - loss: 0.2093 - acc: 0.9231 - val_loss: 0.2280 - val_acc: 0.9155\n",
      "Epoch 5/20\n",
      "48000/48000 [==============================] - 78s 2ms/step - loss: 0.1853 - acc: 0.9315 - val_loss: 0.2262 - val_acc: 0.9165\n",
      "Epoch 6/20\n",
      "48000/48000 [==============================] - 76s 2ms/step - loss: 0.1625 - acc: 0.9394 - val_loss: 0.2296 - val_acc: 0.9223\n",
      "Epoch 7/20\n",
      "48000/48000 [==============================] - 72s 1ms/step - loss: 0.1427 - acc: 0.9471 - val_loss: 0.2427 - val_acc: 0.9147\n",
      "Epoch 8/20\n",
      "48000/48000 [==============================] - 82s 2ms/step - loss: 0.1245 - acc: 0.9531 - val_loss: 0.2303 - val_acc: 0.9242\n",
      "Epoch 9/20\n",
      "48000/48000 [==============================] - 78s 2ms/step - loss: 0.1050 - acc: 0.9608 - val_loss: 0.2429 - val_acc: 0.9262\n",
      "Epoch 10/20\n",
      "48000/48000 [==============================] - 68s 1ms/step - loss: 0.0905 - acc: 0.9667 - val_loss: 0.2652 - val_acc: 0.9204\n",
      "Epoch 11/20\n",
      "48000/48000 [==============================] - 74s 2ms/step - loss: 0.0776 - acc: 0.9709 - val_loss: 0.2625 - val_acc: 0.9239\n",
      "Epoch 12/20\n",
      "48000/48000 [==============================] - 84s 2ms/step - loss: 0.0678 - acc: 0.9738 - val_loss: 0.3084 - val_acc: 0.9231\n",
      "Epoch 13/20\n",
      "48000/48000 [==============================] - 84s 2ms/step - loss: 0.0579 - acc: 0.9780 - val_loss: 0.3107 - val_acc: 0.9230\n",
      "Epoch 14/20\n",
      "48000/48000 [==============================] - 90s 2ms/step - loss: 0.0483 - acc: 0.9821 - val_loss: 0.3308 - val_acc: 0.9227\n",
      "Epoch 15/20\n",
      "48000/48000 [==============================] - 72s 2ms/step - loss: 0.0446 - acc: 0.9830 - val_loss: 0.3509 - val_acc: 0.9184\n",
      "Epoch 16/20\n",
      "48000/48000 [==============================] - 70s 1ms/step - loss: 0.0432 - acc: 0.9837 - val_loss: 0.3678 - val_acc: 0.9195\n",
      "Epoch 17/20\n",
      "48000/48000 [==============================] - 75s 2ms/step - loss: 0.0341 - acc: 0.9877 - val_loss: 0.3693 - val_acc: 0.9201\n",
      "Epoch 18/20\n",
      "48000/48000 [==============================] - 84s 2ms/step - loss: 0.0334 - acc: 0.9876 - val_loss: 0.3946 - val_acc: 0.9208\n",
      "Epoch 19/20\n",
      "48000/48000 [==============================] - 78s 2ms/step - loss: 0.0314 - acc: 0.9885 - val_loss: 0.4252 - val_acc: 0.9182\n",
      "Epoch 20/20\n",
      "48000/48000 [==============================] - 67s 1ms/step - loss: 0.0301 - acc: 0.9886 - val_loss: 0.4132 - val_acc: 0.9223\n"
     ]
    }
   ],
   "source": [
    "fashion_train = fashion_model.fit(train_X, train_label, batch_size=batch_size,epochs=epochs,verbose=1,validation_data=(valid_X, valid_label))"
   ]
  },
  {
   "cell_type": "code",
   "execution_count": 18,
   "metadata": {},
   "outputs": [
    {
     "name": "stdout",
     "output_type": "stream",
     "text": [
      "Starting webserver from: /Users/wajdiahmed/anaconda3/lib/python3.6/site-packages/quiver_engine\n"
     ]
    },
    {
     "name": "stderr",
     "output_type": "stream",
     "text": [
      "::1 - - [2018-09-15 08:24:56] \"GET / HTTP/1.1\" 200 829 0.024464\n",
      "::1 - - [2018-09-15 08:24:56] \"GET /app.c1d3d21cfba8c1aabed6806773c8f0ba.css HTTP/1.1\" 200 5158 0.002386\n",
      "::1 - - [2018-09-15 08:24:56] \"GET /vendor.280c5ce1d78077ee8d66.js HTTP/1.1\" 200 87584 0.006224\n",
      "::1 - - [2018-09-15 08:24:56] \"GET /app.14b8092d6ea379715007.js HTTP/1.1\" 200 1179498 0.056765\n",
      "::1 - - [2018-09-15 08:24:57] \"GET /model HTTP/1.1\" 200 6669 0.002230\n",
      "::1 - - [2018-09-15 08:24:57] \"GET /inputs HTTP/1.1\" 200 358 0.001308\n",
      "::1 - - [2018-09-15 08:24:57] \"GET /input-file/random_02.png HTTP/1.1\" 200 10494 0.001362\n",
      "::1 - - [2018-09-15 08:24:57] \"GET /input-file/random_00.png HTTP/1.1\" 200 10495 0.001490\n",
      "::1 - - [2018-09-15 08:24:57] \"GET /input-file/random_03.png HTTP/1.1\" 200 10495 0.001156\n",
      "::1 - - [2018-09-15 08:24:57] \"GET /input-file/random_06.png HTTP/1.1\" 200 10495 0.001322\n",
      "::1 - - [2018-09-15 08:24:57] \"GET /input-file/random_01.png HTTP/1.1\" 200 10495 0.001253\n",
      "::1 - - [2018-09-15 08:24:57] \"GET /input-file/random_05.png HTTP/1.1\" 200 10495 0.000999\n",
      "::1 - - [2018-09-15 08:24:57] \"GET /input-file/random_04.png HTTP/1.1\" 200 10495 0.001037\n",
      "::1 - - [2018-09-15 08:24:57] \"GET /input-file/random_09.png HTTP/1.1\" 200 10495 0.001987\n",
      "::1 - - [2018-09-15 08:24:57] \"GET /input-file/random_07.png HTTP/1.1\" 200 10495 0.002085\n",
      "::1 - - [2018-09-15 08:24:57] \"GET /input-file/random_08.png HTTP/1.1\" 200 10495 0.001579\n",
      "::1 - - [2018-09-15 08:24:57] \"GET /input-file/face.png HTTP/1.1\" 200 1207405 0.088372\n",
      "::1 - - [2018-09-15 08:24:57] \"GET /favicon.ico HTTP/1.1\" 200 16195 0.006045\n",
      "[2018-09-15 08:25:18,726] ERROR in app: Exception on /predict/face.png [GET]\n",
      "Traceback (most recent call last):\n",
      "  File \"/Users/wajdiahmed/anaconda3/lib/python3.6/site-packages/flask/app.py\", line 1982, in wsgi_app\n",
      "    response = self.full_dispatch_request()\n",
      "  File \"/Users/wajdiahmed/anaconda3/lib/python3.6/site-packages/flask/app.py\", line 1614, in full_dispatch_request\n",
      "    rv = self.handle_user_exception(e)\n",
      "  File \"/Users/wajdiahmed/anaconda3/lib/python3.6/site-packages/flask_cors/extension.py\", line 161, in wrapped_function\n",
      "    return cors_after_request(app.make_response(f(*args, **kwargs)))\n",
      "  File \"/Users/wajdiahmed/anaconda3/lib/python3.6/site-packages/flask/app.py\", line 1517, in handle_user_exception\n",
      "    reraise(exc_type, exc_value, tb)\n",
      "  File \"/Users/wajdiahmed/anaconda3/lib/python3.6/site-packages/flask/_compat.py\", line 33, in reraise\n",
      "    raise value\n",
      "  File \"/Users/wajdiahmed/anaconda3/lib/python3.6/site-packages/flask/app.py\", line 1612, in full_dispatch_request\n",
      "    rv = self.dispatch_request()\n",
      "  File \"/Users/wajdiahmed/anaconda3/lib/python3.6/site-packages/flask/app.py\", line 1598, in dispatch_request\n",
      "    return self.view_functions[rule.endpoint](**req.view_args)\n",
      "  File \"/Users/wajdiahmed/anaconda3/lib/python3.6/site-packages/quiver_engine/server.py\", line 133, in get_prediction\n",
      "    model.predict(input_img)\n",
      "  File \"/Users/wajdiahmed/anaconda3/lib/python3.6/site-packages/quiver_engine/imagenet_utils.py\", line 42, in decode_predictions\n",
      "    'Found array with shape: ' + str(preds.shape))\n",
      "ValueError: `decode_predictions` expects a batch of predictions (i.e. a 2D array of shape (samples, 1000)). Found array with shape: (1, 10)\n",
      "::1 - - [2018-09-15 08:25:18] \"GET /predict/face.png HTTP/1.1\" 500 444 0.260944\n",
      "/Users/wajdiahmed/anaconda3/lib/python3.6/site-packages/quiver_engine/layer_result_generators.py:7: UserWarning: Update your `Model` call to the Keras 2 API: `Model(inputs=Tensor(\"co..., outputs=Tensor(\"de...)`\n",
      "  output=model.get_layer(layer_name).output\n",
      "[2018-09-15 08:25:18,855] ERROR in app: Exception on /layer/dense_2/face.png [GET]\n",
      "Traceback (most recent call last):\n",
      "  File \"/Users/wajdiahmed/anaconda3/lib/python3.6/site-packages/flask/app.py\", line 1982, in wsgi_app\n",
      "    response = self.full_dispatch_request()\n",
      "  File \"/Users/wajdiahmed/anaconda3/lib/python3.6/site-packages/flask/app.py\", line 1614, in full_dispatch_request\n",
      "    rv = self.handle_user_exception(e)\n",
      "  File \"/Users/wajdiahmed/anaconda3/lib/python3.6/site-packages/flask_cors/extension.py\", line 161, in wrapped_function\n",
      "    return cors_after_request(app.make_response(f(*args, **kwargs)))\n",
      "  File \"/Users/wajdiahmed/anaconda3/lib/python3.6/site-packages/flask/app.py\", line 1517, in handle_user_exception\n",
      "    reraise(exc_type, exc_value, tb)\n",
      "  File \"/Users/wajdiahmed/anaconda3/lib/python3.6/site-packages/flask/_compat.py\", line 33, in reraise\n",
      "    raise value\n",
      "  File \"/Users/wajdiahmed/anaconda3/lib/python3.6/site-packages/flask/app.py\", line 1612, in full_dispatch_request\n",
      "    rv = self.dispatch_request()\n",
      "  File \"/Users/wajdiahmed/anaconda3/lib/python3.6/site-packages/flask/app.py\", line 1598, in dispatch_request\n",
      "    return self.view_functions[rule.endpoint](**req.view_args)\n",
      "  File \"/Users/wajdiahmed/anaconda3/lib/python3.6/site-packages/quiver_engine/server.py\", line 109, in get_layer_outputs\n",
      "    for z in range(0, layer_outputs.shape[2]):\n",
      "IndexError: tuple index out of range\n",
      "::1 - - [2018-09-15 08:25:18] \"GET /layer/dense_2/face.png HTTP/1.1\" 500 444 0.092316\n",
      "/Users/wajdiahmed/anaconda3/lib/python3.6/site-packages/quiver_engine/layer_result_generators.py:7: UserWarning: Update your `Model` call to the Keras 2 API: `Model(inputs=Tensor(\"co..., outputs=Tensor(\"co...)`\n",
      "  output=model.get_layer(layer_name).output\n",
      "[2018-09-15 08:25:33,587] ERROR in app: Exception on /layer/conv2d_1/face.png [GET]\n",
      "Traceback (most recent call last):\n",
      "  File \"/Users/wajdiahmed/anaconda3/lib/python3.6/site-packages/flask/app.py\", line 1982, in wsgi_app\n",
      "    response = self.full_dispatch_request()\n",
      "  File \"/Users/wajdiahmed/anaconda3/lib/python3.6/site-packages/flask/app.py\", line 1614, in full_dispatch_request\n",
      "    rv = self.handle_user_exception(e)\n",
      "  File \"/Users/wajdiahmed/anaconda3/lib/python3.6/site-packages/flask_cors/extension.py\", line 161, in wrapped_function\n",
      "    return cors_after_request(app.make_response(f(*args, **kwargs)))\n",
      "  File \"/Users/wajdiahmed/anaconda3/lib/python3.6/site-packages/flask/app.py\", line 1517, in handle_user_exception\n",
      "    reraise(exc_type, exc_value, tb)\n",
      "  File \"/Users/wajdiahmed/anaconda3/lib/python3.6/site-packages/flask/_compat.py\", line 33, in reraise\n",
      "    raise value\n",
      "  File \"/Users/wajdiahmed/anaconda3/lib/python3.6/site-packages/flask/app.py\", line 1612, in full_dispatch_request\n",
      "    rv = self.dispatch_request()\n",
      "  File \"/Users/wajdiahmed/anaconda3/lib/python3.6/site-packages/flask/app.py\", line 1598, in dispatch_request\n",
      "    return self.view_functions[rule.endpoint](**req.view_args)\n",
      "  File \"/Users/wajdiahmed/anaconda3/lib/python3.6/site-packages/quiver_engine/server.py\", line 119, in get_layer_outputs\n",
      "    imsave(filename, deprocessed)\n",
      "  File \"/Users/wajdiahmed/anaconda3/lib/python3.6/site-packages/numpy/lib/utils.py\", line 101, in newfunc\n",
      "    return func(*args, **kwds)\n",
      "  File \"/Users/wajdiahmed/anaconda3/lib/python3.6/site-packages/scipy/misc/pilutil.py\", line 219, in imsave\n",
      "    im.save(name)\n",
      "  File \"/Users/wajdiahmed/anaconda3/lib/python3.6/site-packages/PIL/Image.py\", line 1890, in save\n",
      "    fp = builtins.open(filename, \"w+b\")\n",
      "FileNotFoundError: [Errno 2] No such file or directory: './tmp/conv2d_1_0_face.png.png'\n",
      "::1 - - [2018-09-15 08:25:33] \"GET /layer/conv2d_1/face.png HTTP/1.1\" 500 444 0.114802\n",
      "/Users/wajdiahmed/anaconda3/lib/python3.6/site-packages/quiver_engine/layer_result_generators.py:7: UserWarning: Update your `Model` call to the Keras 2 API: `Model(inputs=Tensor(\"co..., outputs=Tensor(\"le...)`\n",
      "  output=model.get_layer(layer_name).output\n",
      "[2018-09-15 08:25:35,355] ERROR in app: Exception on /layer/leaky_re_lu_1/face.png [GET]\n",
      "Traceback (most recent call last):\n",
      "  File \"/Users/wajdiahmed/anaconda3/lib/python3.6/site-packages/flask/app.py\", line 1982, in wsgi_app\n",
      "    response = self.full_dispatch_request()\n",
      "  File \"/Users/wajdiahmed/anaconda3/lib/python3.6/site-packages/flask/app.py\", line 1614, in full_dispatch_request\n",
      "    rv = self.handle_user_exception(e)\n",
      "  File \"/Users/wajdiahmed/anaconda3/lib/python3.6/site-packages/flask_cors/extension.py\", line 161, in wrapped_function\n",
      "    return cors_after_request(app.make_response(f(*args, **kwargs)))\n",
      "  File \"/Users/wajdiahmed/anaconda3/lib/python3.6/site-packages/flask/app.py\", line 1517, in handle_user_exception\n",
      "    reraise(exc_type, exc_value, tb)\n",
      "  File \"/Users/wajdiahmed/anaconda3/lib/python3.6/site-packages/flask/_compat.py\", line 33, in reraise\n",
      "    raise value\n",
      "  File \"/Users/wajdiahmed/anaconda3/lib/python3.6/site-packages/flask/app.py\", line 1612, in full_dispatch_request\n",
      "    rv = self.dispatch_request()\n",
      "  File \"/Users/wajdiahmed/anaconda3/lib/python3.6/site-packages/flask/app.py\", line 1598, in dispatch_request\n",
      "    return self.view_functions[rule.endpoint](**req.view_args)\n",
      "  File \"/Users/wajdiahmed/anaconda3/lib/python3.6/site-packages/quiver_engine/server.py\", line 119, in get_layer_outputs\n",
      "    imsave(filename, deprocessed)\n",
      "  File \"/Users/wajdiahmed/anaconda3/lib/python3.6/site-packages/numpy/lib/utils.py\", line 101, in newfunc\n",
      "    return func(*args, **kwds)\n",
      "  File \"/Users/wajdiahmed/anaconda3/lib/python3.6/site-packages/scipy/misc/pilutil.py\", line 219, in imsave\n",
      "    im.save(name)\n",
      "  File \"/Users/wajdiahmed/anaconda3/lib/python3.6/site-packages/PIL/Image.py\", line 1890, in save\n",
      "    fp = builtins.open(filename, \"w+b\")\n",
      "FileNotFoundError: [Errno 2] No such file or directory: './tmp/leaky_re_lu_1_0_face.png.png'\n"
     ]
    },
    {
     "name": "stderr",
     "output_type": "stream",
     "text": [
      "::1 - - [2018-09-15 08:25:35] \"GET /layer/leaky_re_lu_1/face.png HTTP/1.1\" 500 444 0.076958\n",
      "/Users/wajdiahmed/anaconda3/lib/python3.6/site-packages/quiver_engine/layer_result_generators.py:7: UserWarning: Update your `Model` call to the Keras 2 API: `Model(inputs=Tensor(\"co..., outputs=Tensor(\"ma...)`\n",
      "  output=model.get_layer(layer_name).output\n",
      "[2018-09-15 08:25:36,620] ERROR in app: Exception on /layer/max_pooling2d_1/face.png [GET]\n",
      "Traceback (most recent call last):\n",
      "  File \"/Users/wajdiahmed/anaconda3/lib/python3.6/site-packages/flask/app.py\", line 1982, in wsgi_app\n",
      "    response = self.full_dispatch_request()\n",
      "  File \"/Users/wajdiahmed/anaconda3/lib/python3.6/site-packages/flask/app.py\", line 1614, in full_dispatch_request\n",
      "    rv = self.handle_user_exception(e)\n",
      "  File \"/Users/wajdiahmed/anaconda3/lib/python3.6/site-packages/flask_cors/extension.py\", line 161, in wrapped_function\n",
      "    return cors_after_request(app.make_response(f(*args, **kwargs)))\n",
      "  File \"/Users/wajdiahmed/anaconda3/lib/python3.6/site-packages/flask/app.py\", line 1517, in handle_user_exception\n",
      "    reraise(exc_type, exc_value, tb)\n",
      "  File \"/Users/wajdiahmed/anaconda3/lib/python3.6/site-packages/flask/_compat.py\", line 33, in reraise\n",
      "    raise value\n",
      "  File \"/Users/wajdiahmed/anaconda3/lib/python3.6/site-packages/flask/app.py\", line 1612, in full_dispatch_request\n",
      "    rv = self.dispatch_request()\n",
      "  File \"/Users/wajdiahmed/anaconda3/lib/python3.6/site-packages/flask/app.py\", line 1598, in dispatch_request\n",
      "    return self.view_functions[rule.endpoint](**req.view_args)\n",
      "  File \"/Users/wajdiahmed/anaconda3/lib/python3.6/site-packages/quiver_engine/server.py\", line 119, in get_layer_outputs\n",
      "    imsave(filename, deprocessed)\n",
      "  File \"/Users/wajdiahmed/anaconda3/lib/python3.6/site-packages/numpy/lib/utils.py\", line 101, in newfunc\n",
      "    return func(*args, **kwds)\n",
      "  File \"/Users/wajdiahmed/anaconda3/lib/python3.6/site-packages/scipy/misc/pilutil.py\", line 219, in imsave\n",
      "    im.save(name)\n",
      "  File \"/Users/wajdiahmed/anaconda3/lib/python3.6/site-packages/PIL/Image.py\", line 1890, in save\n",
      "    fp = builtins.open(filename, \"w+b\")\n",
      "FileNotFoundError: [Errno 2] No such file or directory: './tmp/max_pooling2d_1_0_face.png.png'\n",
      "::1 - - [2018-09-15 08:25:36] \"GET /layer/max_pooling2d_1/face.png HTTP/1.1\" 500 444 0.063279\n",
      "[2018-09-15 08:25:37,813] ERROR in app: Exception on /layer/conv2d_2/face.png [GET]\n",
      "Traceback (most recent call last):\n",
      "  File \"/Users/wajdiahmed/anaconda3/lib/python3.6/site-packages/flask/app.py\", line 1982, in wsgi_app\n",
      "    response = self.full_dispatch_request()\n",
      "  File \"/Users/wajdiahmed/anaconda3/lib/python3.6/site-packages/flask/app.py\", line 1614, in full_dispatch_request\n",
      "    rv = self.handle_user_exception(e)\n",
      "  File \"/Users/wajdiahmed/anaconda3/lib/python3.6/site-packages/flask_cors/extension.py\", line 161, in wrapped_function\n",
      "    return cors_after_request(app.make_response(f(*args, **kwargs)))\n",
      "  File \"/Users/wajdiahmed/anaconda3/lib/python3.6/site-packages/flask/app.py\", line 1517, in handle_user_exception\n",
      "    reraise(exc_type, exc_value, tb)\n",
      "  File \"/Users/wajdiahmed/anaconda3/lib/python3.6/site-packages/flask/_compat.py\", line 33, in reraise\n",
      "    raise value\n",
      "  File \"/Users/wajdiahmed/anaconda3/lib/python3.6/site-packages/flask/app.py\", line 1612, in full_dispatch_request\n",
      "    rv = self.dispatch_request()\n",
      "  File \"/Users/wajdiahmed/anaconda3/lib/python3.6/site-packages/flask/app.py\", line 1598, in dispatch_request\n",
      "    return self.view_functions[rule.endpoint](**req.view_args)\n",
      "  File \"/Users/wajdiahmed/anaconda3/lib/python3.6/site-packages/quiver_engine/server.py\", line 119, in get_layer_outputs\n",
      "    imsave(filename, deprocessed)\n",
      "  File \"/Users/wajdiahmed/anaconda3/lib/python3.6/site-packages/numpy/lib/utils.py\", line 101, in newfunc\n",
      "    return func(*args, **kwds)\n",
      "  File \"/Users/wajdiahmed/anaconda3/lib/python3.6/site-packages/scipy/misc/pilutil.py\", line 219, in imsave\n",
      "    im.save(name)\n",
      "  File \"/Users/wajdiahmed/anaconda3/lib/python3.6/site-packages/PIL/Image.py\", line 1890, in save\n",
      "    fp = builtins.open(filename, \"w+b\")\n",
      "FileNotFoundError: [Errno 2] No such file or directory: './tmp/conv2d_2_0_face.png.png'\n",
      "::1 - - [2018-09-15 08:25:37] \"GET /layer/conv2d_2/face.png HTTP/1.1\" 500 444 0.072381\n",
      "[2018-09-15 08:25:48,412] ERROR in app: Exception on /layer/dense_2/face.png [GET]\n",
      "Traceback (most recent call last):\n",
      "  File \"/Users/wajdiahmed/anaconda3/lib/python3.6/site-packages/flask/app.py\", line 1982, in wsgi_app\n",
      "    response = self.full_dispatch_request()\n",
      "  File \"/Users/wajdiahmed/anaconda3/lib/python3.6/site-packages/flask/app.py\", line 1614, in full_dispatch_request\n",
      "    rv = self.handle_user_exception(e)\n",
      "  File \"/Users/wajdiahmed/anaconda3/lib/python3.6/site-packages/flask_cors/extension.py\", line 161, in wrapped_function\n",
      "    return cors_after_request(app.make_response(f(*args, **kwargs)))\n",
      "  File \"/Users/wajdiahmed/anaconda3/lib/python3.6/site-packages/flask/app.py\", line 1517, in handle_user_exception\n",
      "    reraise(exc_type, exc_value, tb)\n",
      "  File \"/Users/wajdiahmed/anaconda3/lib/python3.6/site-packages/flask/_compat.py\", line 33, in reraise\n",
      "    raise value\n",
      "  File \"/Users/wajdiahmed/anaconda3/lib/python3.6/site-packages/flask/app.py\", line 1612, in full_dispatch_request\n",
      "    rv = self.dispatch_request()\n",
      "  File \"/Users/wajdiahmed/anaconda3/lib/python3.6/site-packages/flask/app.py\", line 1598, in dispatch_request\n",
      "    return self.view_functions[rule.endpoint](**req.view_args)\n",
      "  File \"/Users/wajdiahmed/anaconda3/lib/python3.6/site-packages/quiver_engine/server.py\", line 109, in get_layer_outputs\n",
      "    for z in range(0, layer_outputs.shape[2]):\n",
      "IndexError: tuple index out of range\n",
      "::1 - - [2018-09-15 08:25:48] \"GET /layer/dense_2/face.png HTTP/1.1\" 500 444 0.083420\n",
      "[2018-09-15 08:25:54,674] ERROR in app: Exception on /predict/random_07.png [GET]\n",
      "Traceback (most recent call last):\n",
      "  File \"/Users/wajdiahmed/anaconda3/lib/python3.6/site-packages/flask/app.py\", line 1982, in wsgi_app\n",
      "    response = self.full_dispatch_request()\n",
      "  File \"/Users/wajdiahmed/anaconda3/lib/python3.6/site-packages/flask/app.py\", line 1614, in full_dispatch_request\n",
      "    rv = self.handle_user_exception(e)\n",
      "  File \"/Users/wajdiahmed/anaconda3/lib/python3.6/site-packages/flask_cors/extension.py\", line 161, in wrapped_function\n",
      "    return cors_after_request(app.make_response(f(*args, **kwargs)))\n",
      "  File \"/Users/wajdiahmed/anaconda3/lib/python3.6/site-packages/flask/app.py\", line 1517, in handle_user_exception\n",
      "    reraise(exc_type, exc_value, tb)\n",
      "  File \"/Users/wajdiahmed/anaconda3/lib/python3.6/site-packages/flask/_compat.py\", line 33, in reraise\n",
      "    raise value\n",
      "  File \"/Users/wajdiahmed/anaconda3/lib/python3.6/site-packages/flask/app.py\", line 1612, in full_dispatch_request\n",
      "    rv = self.dispatch_request()\n",
      "  File \"/Users/wajdiahmed/anaconda3/lib/python3.6/site-packages/flask/app.py\", line 1598, in dispatch_request\n",
      "    return self.view_functions[rule.endpoint](**req.view_args)\n",
      "  File \"/Users/wajdiahmed/anaconda3/lib/python3.6/site-packages/quiver_engine/server.py\", line 133, in get_prediction\n",
      "    model.predict(input_img)\n",
      "  File \"/Users/wajdiahmed/anaconda3/lib/python3.6/site-packages/quiver_engine/imagenet_utils.py\", line 42, in decode_predictions\n",
      "    'Found array with shape: ' + str(preds.shape))\n",
      "ValueError: `decode_predictions` expects a batch of predictions (i.e. a 2D array of shape (samples, 1000)). Found array with shape: (1, 10)\n",
      "::1 - - [2018-09-15 08:25:54] \"GET /predict/random_07.png HTTP/1.1\" 500 444 0.004791\n",
      "[2018-09-15 08:25:54,721] ERROR in app: Exception on /layer/dense_2/random_07.png [GET]\n",
      "Traceback (most recent call last):\n",
      "  File \"/Users/wajdiahmed/anaconda3/lib/python3.6/site-packages/flask/app.py\", line 1982, in wsgi_app\n",
      "    response = self.full_dispatch_request()\n",
      "  File \"/Users/wajdiahmed/anaconda3/lib/python3.6/site-packages/flask/app.py\", line 1614, in full_dispatch_request\n",
      "    rv = self.handle_user_exception(e)\n",
      "  File \"/Users/wajdiahmed/anaconda3/lib/python3.6/site-packages/flask_cors/extension.py\", line 161, in wrapped_function\n",
      "    return cors_after_request(app.make_response(f(*args, **kwargs)))\n",
      "  File \"/Users/wajdiahmed/anaconda3/lib/python3.6/site-packages/flask/app.py\", line 1517, in handle_user_exception\n",
      "    reraise(exc_type, exc_value, tb)\n",
      "  File \"/Users/wajdiahmed/anaconda3/lib/python3.6/site-packages/flask/_compat.py\", line 33, in reraise\n",
      "    raise value\n",
      "  File \"/Users/wajdiahmed/anaconda3/lib/python3.6/site-packages/flask/app.py\", line 1612, in full_dispatch_request\n",
      "    rv = self.dispatch_request()\n",
      "  File \"/Users/wajdiahmed/anaconda3/lib/python3.6/site-packages/flask/app.py\", line 1598, in dispatch_request\n",
      "    return self.view_functions[rule.endpoint](**req.view_args)\n",
      "  File \"/Users/wajdiahmed/anaconda3/lib/python3.6/site-packages/quiver_engine/server.py\", line 109, in get_layer_outputs\n",
      "    for z in range(0, layer_outputs.shape[2]):\n",
      "IndexError: tuple index out of range\n"
     ]
    },
    {
     "name": "stderr",
     "output_type": "stream",
     "text": [
      "::1 - - [2018-09-15 08:25:54] \"GET /layer/dense_2/random_07.png HTTP/1.1\" 500 444 0.048439\n",
      "[2018-09-15 08:25:56,157] ERROR in app: Exception on /predict/face.png [GET]\n",
      "Traceback (most recent call last):\n",
      "  File \"/Users/wajdiahmed/anaconda3/lib/python3.6/site-packages/flask/app.py\", line 1982, in wsgi_app\n",
      "    response = self.full_dispatch_request()\n",
      "  File \"/Users/wajdiahmed/anaconda3/lib/python3.6/site-packages/flask/app.py\", line 1614, in full_dispatch_request\n",
      "    rv = self.handle_user_exception(e)\n",
      "  File \"/Users/wajdiahmed/anaconda3/lib/python3.6/site-packages/flask_cors/extension.py\", line 161, in wrapped_function\n",
      "    return cors_after_request(app.make_response(f(*args, **kwargs)))\n",
      "  File \"/Users/wajdiahmed/anaconda3/lib/python3.6/site-packages/flask/app.py\", line 1517, in handle_user_exception\n",
      "    reraise(exc_type, exc_value, tb)\n",
      "  File \"/Users/wajdiahmed/anaconda3/lib/python3.6/site-packages/flask/_compat.py\", line 33, in reraise\n",
      "    raise value\n",
      "  File \"/Users/wajdiahmed/anaconda3/lib/python3.6/site-packages/flask/app.py\", line 1612, in full_dispatch_request\n",
      "    rv = self.dispatch_request()\n",
      "  File \"/Users/wajdiahmed/anaconda3/lib/python3.6/site-packages/flask/app.py\", line 1598, in dispatch_request\n",
      "    return self.view_functions[rule.endpoint](**req.view_args)\n",
      "  File \"/Users/wajdiahmed/anaconda3/lib/python3.6/site-packages/quiver_engine/server.py\", line 133, in get_prediction\n",
      "    model.predict(input_img)\n",
      "  File \"/Users/wajdiahmed/anaconda3/lib/python3.6/site-packages/quiver_engine/imagenet_utils.py\", line 42, in decode_predictions\n",
      "    'Found array with shape: ' + str(preds.shape))\n",
      "ValueError: `decode_predictions` expects a batch of predictions (i.e. a 2D array of shape (samples, 1000)). Found array with shape: (1, 10)\n",
      "::1 - - [2018-09-15 08:25:56] \"GET /predict/face.png HTTP/1.1\" 500 444 0.037890\n",
      "[2018-09-15 08:25:56,232] ERROR in app: Exception on /layer/dense_2/face.png [GET]\n",
      "Traceback (most recent call last):\n",
      "  File \"/Users/wajdiahmed/anaconda3/lib/python3.6/site-packages/flask/app.py\", line 1982, in wsgi_app\n",
      "    response = self.full_dispatch_request()\n",
      "  File \"/Users/wajdiahmed/anaconda3/lib/python3.6/site-packages/flask/app.py\", line 1614, in full_dispatch_request\n",
      "    rv = self.handle_user_exception(e)\n",
      "  File \"/Users/wajdiahmed/anaconda3/lib/python3.6/site-packages/flask_cors/extension.py\", line 161, in wrapped_function\n",
      "    return cors_after_request(app.make_response(f(*args, **kwargs)))\n",
      "  File \"/Users/wajdiahmed/anaconda3/lib/python3.6/site-packages/flask/app.py\", line 1517, in handle_user_exception\n",
      "    reraise(exc_type, exc_value, tb)\n",
      "  File \"/Users/wajdiahmed/anaconda3/lib/python3.6/site-packages/flask/_compat.py\", line 33, in reraise\n",
      "    raise value\n",
      "  File \"/Users/wajdiahmed/anaconda3/lib/python3.6/site-packages/flask/app.py\", line 1612, in full_dispatch_request\n",
      "    rv = self.dispatch_request()\n",
      "  File \"/Users/wajdiahmed/anaconda3/lib/python3.6/site-packages/flask/app.py\", line 1598, in dispatch_request\n",
      "    return self.view_functions[rule.endpoint](**req.view_args)\n",
      "  File \"/Users/wajdiahmed/anaconda3/lib/python3.6/site-packages/quiver_engine/server.py\", line 109, in get_layer_outputs\n",
      "    for z in range(0, layer_outputs.shape[2]):\n",
      "IndexError: tuple index out of range\n",
      "::1 - - [2018-09-15 08:25:56] \"GET /layer/dense_2/face.png HTTP/1.1\" 500 444 0.074685\n",
      "KeyboardInterrupt\n",
      "Sat Sep 15 08:32:11 2018\n"
     ]
    },
    {
     "ename": "KeyboardInterrupt",
     "evalue": "",
     "output_type": "error",
     "traceback": [
      "\u001b[0;31m---------------------------------------------------------------------------\u001b[0m",
      "\u001b[0;31mKeyboardInterrupt\u001b[0m                         Traceback (most recent call last)",
      "\u001b[0;32m<ipython-input-18-6dd5a7b5e9e8>\u001b[0m in \u001b[0;36m<module>\u001b[0;34m()\u001b[0m\n\u001b[1;32m      1\u001b[0m \u001b[0mtest_eval\u001b[0m \u001b[0;34m=\u001b[0m \u001b[0mfashion_model\u001b[0m\u001b[0;34m.\u001b[0m\u001b[0mevaluate\u001b[0m\u001b[0;34m(\u001b[0m\u001b[0mtest_X\u001b[0m\u001b[0;34m,\u001b[0m \u001b[0mtest_Y_one_hot\u001b[0m\u001b[0;34m,\u001b[0m \u001b[0mverbose\u001b[0m\u001b[0;34m=\u001b[0m\u001b[0;36m0\u001b[0m\u001b[0;34m)\u001b[0m\u001b[0;34m\u001b[0m\u001b[0m\n\u001b[1;32m      2\u001b[0m \u001b[0;32mfrom\u001b[0m \u001b[0mquiver_engine\u001b[0m \u001b[0;32mimport\u001b[0m \u001b[0mserver\u001b[0m\u001b[0;34m\u001b[0m\u001b[0m\n\u001b[0;32m----> 3\u001b[0;31m \u001b[0mserver\u001b[0m\u001b[0;34m.\u001b[0m\u001b[0mlaunch\u001b[0m\u001b[0;34m(\u001b[0m\u001b[0mfashion_model\u001b[0m\u001b[0;34m)\u001b[0m\u001b[0;34m\u001b[0m\u001b[0m\n\u001b[0m",
      "\u001b[0;32m~/anaconda3/lib/python3.6/site-packages/quiver_engine/server.py\u001b[0m in \u001b[0;36mlaunch\u001b[0;34m(model, temp_folder, input_folder, port, html_base_dir)\u001b[0m\n\u001b[1;32m    159\u001b[0m         get_app(model, html_base_dir=html_base_dir,\n\u001b[1;32m    160\u001b[0m                 temp_folder=temp_folder, input_folder=input_folder),\n\u001b[0;32m--> 161\u001b[0;31m         \u001b[0mport\u001b[0m\u001b[0;34m\u001b[0m\u001b[0m\n\u001b[0m\u001b[1;32m    162\u001b[0m     )\n\u001b[1;32m    163\u001b[0m \u001b[0;34m\u001b[0m\u001b[0m\n",
      "\u001b[0;32m~/anaconda3/lib/python3.6/site-packages/quiver_engine/server.py\u001b[0m in \u001b[0;36mrun_app\u001b[0;34m(app, port)\u001b[0m\n\u001b[1;32m    143\u001b[0m     \u001b[0mhttp_server\u001b[0m \u001b[0;34m=\u001b[0m \u001b[0mWSGIServer\u001b[0m\u001b[0;34m(\u001b[0m\u001b[0;34m(\u001b[0m\u001b[0;34m''\u001b[0m\u001b[0;34m,\u001b[0m \u001b[0mport\u001b[0m\u001b[0;34m)\u001b[0m\u001b[0;34m,\u001b[0m \u001b[0mapp\u001b[0m\u001b[0;34m)\u001b[0m\u001b[0;34m\u001b[0m\u001b[0m\n\u001b[1;32m    144\u001b[0m     \u001b[0mwebbrowser\u001b[0m\u001b[0;34m.\u001b[0m\u001b[0mopen_new\u001b[0m\u001b[0;34m(\u001b[0m\u001b[0;34m'http://localhost:'\u001b[0m \u001b[0;34m+\u001b[0m \u001b[0mstr\u001b[0m\u001b[0;34m(\u001b[0m\u001b[0mport\u001b[0m\u001b[0;34m)\u001b[0m\u001b[0;34m)\u001b[0m\u001b[0;34m\u001b[0m\u001b[0m\n\u001b[0;32m--> 145\u001b[0;31m     \u001b[0mhttp_server\u001b[0m\u001b[0;34m.\u001b[0m\u001b[0mserve_forever\u001b[0m\u001b[0;34m(\u001b[0m\u001b[0;34m)\u001b[0m\u001b[0;34m\u001b[0m\u001b[0m\n\u001b[0m\u001b[1;32m    146\u001b[0m \u001b[0;34m\u001b[0m\u001b[0m\n\u001b[1;32m    147\u001b[0m \u001b[0;34m\u001b[0m\u001b[0m\n",
      "\u001b[0;32m~/anaconda3/lib/python3.6/site-packages/gevent/baseserver.py\u001b[0m in \u001b[0;36mserve_forever\u001b[0;34m(self, stop_timeout)\u001b[0m\n\u001b[1;32m    360\u001b[0m             \u001b[0mself\u001b[0m\u001b[0;34m.\u001b[0m\u001b[0mstart\u001b[0m\u001b[0;34m(\u001b[0m\u001b[0;34m)\u001b[0m\u001b[0;34m\u001b[0m\u001b[0m\n\u001b[1;32m    361\u001b[0m         \u001b[0;32mtry\u001b[0m\u001b[0;34m:\u001b[0m\u001b[0;34m\u001b[0m\u001b[0m\n\u001b[0;32m--> 362\u001b[0;31m             \u001b[0mself\u001b[0m\u001b[0;34m.\u001b[0m\u001b[0m_stop_event\u001b[0m\u001b[0;34m.\u001b[0m\u001b[0mwait\u001b[0m\u001b[0;34m(\u001b[0m\u001b[0;34m)\u001b[0m\u001b[0;34m\u001b[0m\u001b[0m\n\u001b[0m\u001b[1;32m    363\u001b[0m         \u001b[0;32mfinally\u001b[0m\u001b[0;34m:\u001b[0m\u001b[0;34m\u001b[0m\u001b[0m\n\u001b[1;32m    364\u001b[0m             \u001b[0mGreenlet\u001b[0m\u001b[0;34m.\u001b[0m\u001b[0mspawn\u001b[0m\u001b[0;34m(\u001b[0m\u001b[0mself\u001b[0m\u001b[0;34m.\u001b[0m\u001b[0mstop\u001b[0m\u001b[0;34m,\u001b[0m \u001b[0mtimeout\u001b[0m\u001b[0;34m=\u001b[0m\u001b[0mstop_timeout\u001b[0m\u001b[0;34m)\u001b[0m\u001b[0;34m.\u001b[0m\u001b[0mjoin\u001b[0m\u001b[0;34m(\u001b[0m\u001b[0;34m)\u001b[0m\u001b[0;34m\u001b[0m\u001b[0m\n",
      "\u001b[0;32m~/anaconda3/lib/python3.6/site-packages/gevent/event.py\u001b[0m in \u001b[0;36mwait\u001b[0;34m(self, timeout)\u001b[0m\n\u001b[1;32m    217\u001b[0m             \u001b[0mnoticeable\u001b[0m \u001b[0mwhen\u001b[0m \u001b[0mthe\u001b[0m \u001b[0;34m*\u001b[0m\u001b[0mtimeout\u001b[0m\u001b[0;34m*\u001b[0m \u001b[0;32mis\u001b[0m \u001b[0mpresent\u001b[0m\u001b[0;34m.\u001b[0m\u001b[0;34m\u001b[0m\u001b[0m\n\u001b[1;32m    218\u001b[0m         \"\"\"\n\u001b[0;32m--> 219\u001b[0;31m         \u001b[0;32mreturn\u001b[0m \u001b[0mself\u001b[0m\u001b[0;34m.\u001b[0m\u001b[0m_wait\u001b[0m\u001b[0;34m(\u001b[0m\u001b[0mtimeout\u001b[0m\u001b[0;34m)\u001b[0m\u001b[0;34m\u001b[0m\u001b[0m\n\u001b[0m\u001b[1;32m    220\u001b[0m \u001b[0;34m\u001b[0m\u001b[0m\n\u001b[1;32m    221\u001b[0m     \u001b[0;32mdef\u001b[0m \u001b[0m_reset_internal_locks\u001b[0m\u001b[0;34m(\u001b[0m\u001b[0mself\u001b[0m\u001b[0;34m)\u001b[0m\u001b[0;34m:\u001b[0m \u001b[0;31m# pragma: no cover\u001b[0m\u001b[0;34m\u001b[0m\u001b[0m\n",
      "\u001b[0;32m~/anaconda3/lib/python3.6/site-packages/gevent/event.py\u001b[0m in \u001b[0;36m_wait\u001b[0;34m(self, timeout)\u001b[0m\n\u001b[1;32m    127\u001b[0m             \u001b[0;32mreturn\u001b[0m \u001b[0mself\u001b[0m\u001b[0;34m.\u001b[0m\u001b[0m_wait_return_value\u001b[0m\u001b[0;34m(\u001b[0m\u001b[0;32mFalse\u001b[0m\u001b[0;34m,\u001b[0m \u001b[0;32mFalse\u001b[0m\u001b[0;34m)\u001b[0m\u001b[0;34m\u001b[0m\u001b[0m\n\u001b[1;32m    128\u001b[0m \u001b[0;34m\u001b[0m\u001b[0m\n\u001b[0;32m--> 129\u001b[0;31m         \u001b[0mgotit\u001b[0m \u001b[0;34m=\u001b[0m \u001b[0mself\u001b[0m\u001b[0;34m.\u001b[0m\u001b[0m_wait_core\u001b[0m\u001b[0;34m(\u001b[0m\u001b[0mtimeout\u001b[0m\u001b[0;34m)\u001b[0m\u001b[0;34m\u001b[0m\u001b[0m\n\u001b[0m\u001b[1;32m    130\u001b[0m         \u001b[0;32mreturn\u001b[0m \u001b[0mself\u001b[0m\u001b[0;34m.\u001b[0m\u001b[0m_wait_return_value\u001b[0m\u001b[0;34m(\u001b[0m\u001b[0;32mTrue\u001b[0m\u001b[0;34m,\u001b[0m \u001b[0mgotit\u001b[0m\u001b[0;34m)\u001b[0m\u001b[0;34m\u001b[0m\u001b[0m\n\u001b[1;32m    131\u001b[0m \u001b[0;34m\u001b[0m\u001b[0m\n",
      "\u001b[0;32m~/anaconda3/lib/python3.6/site-packages/gevent/event.py\u001b[0m in \u001b[0;36m_wait_core\u001b[0;34m(self, timeout, catch)\u001b[0m\n\u001b[1;32m    104\u001b[0m             \u001b[0;32mtry\u001b[0m\u001b[0;34m:\u001b[0m\u001b[0;34m\u001b[0m\u001b[0m\n\u001b[1;32m    105\u001b[0m                 \u001b[0;32mtry\u001b[0m\u001b[0;34m:\u001b[0m\u001b[0;34m\u001b[0m\u001b[0m\n\u001b[0;32m--> 106\u001b[0;31m                     \u001b[0mresult\u001b[0m \u001b[0;34m=\u001b[0m \u001b[0mself\u001b[0m\u001b[0;34m.\u001b[0m\u001b[0mhub\u001b[0m\u001b[0;34m.\u001b[0m\u001b[0mswitch\u001b[0m\u001b[0;34m(\u001b[0m\u001b[0;34m)\u001b[0m\u001b[0;34m\u001b[0m\u001b[0m\n\u001b[0m\u001b[1;32m    107\u001b[0m                     \u001b[0;32mif\u001b[0m \u001b[0mresult\u001b[0m \u001b[0;32mis\u001b[0m \u001b[0;32mnot\u001b[0m \u001b[0mself\u001b[0m\u001b[0;34m:\u001b[0m \u001b[0;31m# pragma: no cover\u001b[0m\u001b[0;34m\u001b[0m\u001b[0m\n\u001b[1;32m    108\u001b[0m                         \u001b[0;32mraise\u001b[0m \u001b[0mInvalidSwitchError\u001b[0m\u001b[0;34m(\u001b[0m\u001b[0;34m'Invalid switch into Event.wait(): %r'\u001b[0m \u001b[0;34m%\u001b[0m \u001b[0;34m(\u001b[0m\u001b[0mresult\u001b[0m\u001b[0;34m,\u001b[0m \u001b[0;34m)\u001b[0m\u001b[0;34m)\u001b[0m\u001b[0;34m\u001b[0m\u001b[0m\n",
      "\u001b[0;32m~/anaconda3/lib/python3.6/site-packages/gevent/hub.py\u001b[0m in \u001b[0;36mswitch\u001b[0;34m(self)\u001b[0m\n\u001b[1;32m    628\u001b[0m         \u001b[0;32mif\u001b[0m \u001b[0mswitch_out\u001b[0m \u001b[0;32mis\u001b[0m \u001b[0;32mnot\u001b[0m \u001b[0;32mNone\u001b[0m\u001b[0;34m:\u001b[0m\u001b[0;34m\u001b[0m\u001b[0m\n\u001b[1;32m    629\u001b[0m             \u001b[0mswitch_out\u001b[0m\u001b[0;34m(\u001b[0m\u001b[0;34m)\u001b[0m\u001b[0;34m\u001b[0m\u001b[0m\n\u001b[0;32m--> 630\u001b[0;31m         \u001b[0;32mreturn\u001b[0m \u001b[0mRawGreenlet\u001b[0m\u001b[0;34m.\u001b[0m\u001b[0mswitch\u001b[0m\u001b[0;34m(\u001b[0m\u001b[0mself\u001b[0m\u001b[0;34m)\u001b[0m\u001b[0;34m\u001b[0m\u001b[0m\n\u001b[0m\u001b[1;32m    631\u001b[0m \u001b[0;34m\u001b[0m\u001b[0m\n\u001b[1;32m    632\u001b[0m     \u001b[0;32mdef\u001b[0m \u001b[0mswitch_out\u001b[0m\u001b[0;34m(\u001b[0m\u001b[0mself\u001b[0m\u001b[0;34m)\u001b[0m\u001b[0;34m:\u001b[0m\u001b[0;34m\u001b[0m\u001b[0m\n",
      "\u001b[0;31mKeyboardInterrupt\u001b[0m: "
     ]
    }
   ],
   "source": [
    "test_eval = fashion_model.evaluate(test_X, test_Y_one_hot, verbose=0)\n",
    "from quiver_engine import server\n",
    "server.launch(fashion_model)\n"
   ]
  },
  {
   "cell_type": "code",
   "execution_count": 16,
   "metadata": {},
   "outputs": [
    {
     "name": "stdout",
     "output_type": "stream",
     "text": [
      "Test loss: 0.47426625910233705\n",
      "Test accuracy: 0.9125\n"
     ]
    }
   ],
   "source": [
    "print('Test loss:', test_eval[0])\n",
    "print('Test accuracy:', test_eval[1])"
   ]
  },
  {
   "cell_type": "code",
   "execution_count": 17,
   "metadata": {},
   "outputs": [
    {
     "data": {
      "image/png": "[encoded data removed]",
      "text/plain": [
       "<matplotlib.figure.Figure at 0xb21c4bcf8>"
      ]
     },
     "metadata": {},
     "output_type": "display_data"
    },
    {
     "data": {
      "image/png": "[encoded data removed]",
      "text/plain": [
       "<matplotlib.figure.Figure at 0x10604e2e8>"
      ]
     },
     "metadata": {},
     "output_type": "display_data"
    }
   ],
   "source": [
    "accuracy = fashion_train.history['acc']\n",
    "val_accuracy = fashion_train.history['val_acc']\n",
    "loss = fashion_train.history['loss']\n",
    "val_loss = fashion_train.history['val_loss']\n",
    "epochs = range(len(accuracy))\n",
    "plt.plot(epochs, accuracy, 'bo', label='Training accuracy')\n",
    "plt.plot(epochs, val_accuracy, 'b', label='Validation accuracy')\n",
    "plt.title('Training and validation accuracy')\n",
    "plt.legend()\n",
    "plt.figure()\n",
    "plt.plot(epochs, loss, 'bo', label='Training loss')\n",
    "plt.plot(epochs, val_loss, 'b', label='Validation loss')\n",
    "plt.title('Training and validation loss')\n",
    "plt.legend()\n",
    "plt.show()"
   ]
  },
  {
   "cell_type": "code",
   "execution_count": 18,
   "metadata": {
    "collapsed": true
   },
   "outputs": [],
   "source": [
    "batch_size = 64\n",
    "epochs = 20\n",
    "num_classes = 10"
   ]
  },
  {
   "cell_type": "code",
   "execution_count": 19,
   "metadata": {
    "collapsed": true
   },
   "outputs": [],
   "source": [
    "fashion_model = Sequential()\n",
    "fashion_model.add(Conv2D(32, kernel_size=(3, 3),activation='linear',padding='same',input_shape=(28,28,1)))\n",
    "fashion_model.add(LeakyReLU(alpha=0.1))\n",
    "fashion_model.add(MaxPooling2D((2, 2),padding='same'))\n",
    "fashion_model.add(Dropout(0.25))\n",
    "fashion_model.add(Conv2D(64, (3, 3), activation='linear',padding='same'))\n",
    "fashion_model.add(LeakyReLU(alpha=0.1))\n",
    "fashion_model.add(MaxPooling2D(pool_size=(2, 2),padding='same'))\n",
    "fashion_model.add(Dropout(0.25))\n",
    "fashion_model.add(Conv2D(128, (3, 3), activation='linear',padding='same'))\n",
    "fashion_model.add(LeakyReLU(alpha=0.1))                  \n",
    "fashion_model.add(MaxPooling2D(pool_size=(2, 2),padding='same'))\n",
    "fashion_model.add(Dropout(0.4))\n",
    "fashion_model.add(Flatten())\n",
    "fashion_model.add(Dense(128, activation='linear'))\n",
    "fashion_model.add(LeakyReLU(alpha=0.1))           \n",
    "fashion_model.add(Dropout(0.3))\n",
    "fashion_model.add(Dense(num_classes, activation='softmax'))"
   ]
  },
  {
   "cell_type": "code",
   "execution_count": 20,
   "metadata": {},
   "outputs": [
    {
     "name": "stdout",
     "output_type": "stream",
     "text": [
      "_________________________________________________________________\n",
      "Layer (type)                 Output Shape              Param #   \n",
      "=================================================================\n",
      "conv2d_4 (Conv2D)            (None, 28, 28, 32)        320       \n",
      "_________________________________________________________________\n",
      "leaky_re_lu_5 (LeakyReLU)    (None, 28, 28, 32)        0         \n",
      "_________________________________________________________________\n",
      "max_pooling2d_4 (MaxPooling2 (None, 14, 14, 32)        0         \n",
      "_________________________________________________________________\n",
      "dropout_1 (Dropout)          (None, 14, 14, 32)        0         \n",
      "_________________________________________________________________\n",
      "conv2d_5 (Conv2D)            (None, 14, 14, 64)        18496     \n",
      "_________________________________________________________________\n",
      "leaky_re_lu_6 (LeakyReLU)    (None, 14, 14, 64)        0         \n",
      "_________________________________________________________________\n",
      "max_pooling2d_5 (MaxPooling2 (None, 7, 7, 64)          0         \n",
      "_________________________________________________________________\n",
      "dropout_2 (Dropout)          (None, 7, 7, 64)          0         \n",
      "_________________________________________________________________\n",
      "conv2d_6 (Conv2D)            (None, 7, 7, 128)         73856     \n",
      "_________________________________________________________________\n",
      "leaky_re_lu_7 (LeakyReLU)    (None, 7, 7, 128)         0         \n",
      "_________________________________________________________________\n",
      "max_pooling2d_6 (MaxPooling2 (None, 4, 4, 128)         0         \n",
      "_________________________________________________________________\n",
      "dropout_3 (Dropout)          (None, 4, 4, 128)         0         \n",
      "_________________________________________________________________\n",
      "flatten_2 (Flatten)          (None, 2048)              0         \n",
      "_________________________________________________________________\n",
      "dense_3 (Dense)              (None, 128)               262272    \n",
      "_________________________________________________________________\n",
      "leaky_re_lu_8 (LeakyReLU)    (None, 128)               0         \n",
      "_________________________________________________________________\n",
      "dropout_4 (Dropout)          (None, 128)               0         \n",
      "_________________________________________________________________\n",
      "dense_4 (Dense)              (None, 10)                1290      \n",
      "=================================================================\n",
      "Total params: 356,234\n",
      "Trainable params: 356,234\n",
      "Non-trainable params: 0\n",
      "_________________________________________________________________\n"
     ]
    }
   ],
   "source": [
    "fashion_model.summary()"
   ]
  },
  {
   "cell_type": "code",
   "execution_count": 21,
   "metadata": {
    "collapsed": true
   },
   "outputs": [],
   "source": [
    "fashion_model.compile(loss=keras.losses.categorical_crossentropy, optimizer=keras.optimizers.Adam(),metrics=['accuracy'])\n"
   ]
  },
  {
   "cell_type": "code",
   "execution_count": 22,
   "metadata": {},
   "outputs": [
    {
     "name": "stdout",
     "output_type": "stream",
     "text": [
      "Train on 48000 samples, validate on 12000 samples\n",
      "Epoch 1/20\n",
      "48000/48000 [==============================] - 85s 2ms/step - loss: 0.5903 - acc: 0.7822 - val_loss: 0.3846 - val_acc: 0.8568\n",
      "Epoch 2/20\n",
      "48000/48000 [==============================] - 74s 2ms/step - loss: 0.3748 - acc: 0.8621 - val_loss: 0.3142 - val_acc: 0.8831\n",
      "Epoch 3/20\n",
      "48000/48000 [==============================] - 74s 2ms/step - loss: 0.3273 - acc: 0.8798 - val_loss: 0.2871 - val_acc: 0.8928\n",
      "Epoch 4/20\n",
      "48000/48000 [==============================] - 74s 2ms/step - loss: 0.3010 - acc: 0.8875 - val_loss: 0.2606 - val_acc: 0.9027\n",
      "Epoch 5/20\n",
      "48000/48000 [==============================] - 75s 2ms/step - loss: 0.2830 - acc: 0.8944 - val_loss: 0.2472 - val_acc: 0.9081\n",
      "Epoch 6/20\n",
      "48000/48000 [==============================] - 74s 2ms/step - loss: 0.2692 - acc: 0.9008 - val_loss: 0.2526 - val_acc: 0.9042\n",
      "Epoch 7/20\n",
      "48000/48000 [==============================] - 74s 2ms/step - loss: 0.2557 - acc: 0.9039 - val_loss: 0.2371 - val_acc: 0.9136\n",
      "Epoch 8/20\n",
      "48000/48000 [==============================] - 74s 2ms/step - loss: 0.2501 - acc: 0.9078 - val_loss: 0.2352 - val_acc: 0.9146\n",
      "Epoch 9/20\n",
      "48000/48000 [==============================] - 73s 2ms/step - loss: 0.2406 - acc: 0.9100 - val_loss: 0.2343 - val_acc: 0.9158\n",
      "Epoch 10/20\n",
      "48000/48000 [==============================] - 68s 1ms/step - loss: 0.2334 - acc: 0.9120 - val_loss: 0.2250 - val_acc: 0.9179\n",
      "Epoch 11/20\n",
      "48000/48000 [==============================] - 65s 1ms/step - loss: 0.2271 - acc: 0.9138 - val_loss: 0.2220 - val_acc: 0.9217\n",
      "Epoch 12/20\n",
      "48000/48000 [==============================] - 65s 1ms/step - loss: 0.2212 - acc: 0.9164 - val_loss: 0.2262 - val_acc: 0.9195\n",
      "Epoch 13/20\n",
      "48000/48000 [==============================] - 65s 1ms/step - loss: 0.2201 - acc: 0.9173 - val_loss: 0.2338 - val_acc: 0.9180\n",
      "Epoch 14/20\n",
      "48000/48000 [==============================] - 65s 1ms/step - loss: 0.2170 - acc: 0.9189 - val_loss: 0.2227 - val_acc: 0.9232\n",
      "Epoch 15/20\n",
      "48000/48000 [==============================] - 64s 1ms/step - loss: 0.2089 - acc: 0.9210 - val_loss: 0.2242 - val_acc: 0.9201\n",
      "Epoch 16/20\n",
      "48000/48000 [==============================] - 65s 1ms/step - loss: 0.2098 - acc: 0.9204 - val_loss: 0.2176 - val_acc: 0.9232\n",
      "Epoch 17/20\n",
      "48000/48000 [==============================] - 64s 1ms/step - loss: 0.2038 - acc: 0.9235 - val_loss: 0.2187 - val_acc: 0.9205\n",
      "Epoch 18/20\n",
      "48000/48000 [==============================] - 64s 1ms/step - loss: 0.2008 - acc: 0.9230 - val_loss: 0.2086 - val_acc: 0.9256\n",
      "Epoch 19/20\n",
      "48000/48000 [==============================] - 64s 1ms/step - loss: 0.1989 - acc: 0.9249 - val_loss: 0.2174 - val_acc: 0.9253\n",
      "Epoch 20/20\n",
      "48000/48000 [==============================] - 63s 1ms/step - loss: 0.1979 - acc: 0.9262 - val_loss: 0.2202 - val_acc: 0.9190\n"
     ]
    }
   ],
   "source": [
    "fashion_train_dropout = fashion_model.fit(train_X, train_label, batch_size=batch_size,epochs=epochs,verbose=1,validation_data=(valid_X, valid_label))\n"
   ]
  },
  {
   "cell_type": "code",
   "execution_count": 23,
   "metadata": {
    "collapsed": true
   },
   "outputs": [],
   "source": [
    "fashion_model.save(\"fashion_model_dropout.h5py\")"
   ]
  },
  {
   "cell_type": "code",
   "execution_count": 24,
   "metadata": {},
   "outputs": [
    {
     "name": "stdout",
     "output_type": "stream",
     "text": [
      "10000/10000 [==============================] - 3s 273us/step\n"
     ]
    }
   ],
   "source": [
    "test_eval = fashion_model.evaluate(test_X, test_Y_one_hot, verbose=1)"
   ]
  },
  {
   "cell_type": "code",
   "execution_count": 25,
   "metadata": {},
   "outputs": [
    {
     "name": "stdout",
     "output_type": "stream",
     "text": [
      "Test loss: 0.22473989378809928\n",
      "Test accuracy: 0.919\n"
     ]
    }
   ],
   "source": [
    "print('Test loss:', test_eval[0])\n",
    "print('Test accuracy:', test_eval[1])"
   ]
  },
  {
   "cell_type": "code",
   "execution_count": 26,
   "metadata": {},
   "outputs": [
    {
     "data": {
      "image/png": "[encoded data removed]",
      "text/plain": [
       "<matplotlib.figure.Figure at 0xb224fe8d0>"
      ]
     },
     "metadata": {},
     "output_type": "display_data"
    },
    {
     "data": {
      "image/png": "[encoded data removed]",
      "text/plain": [
       "<matplotlib.figure.Figure at 0xb1da1c160>"
      ]
     },
     "metadata": {},
     "output_type": "display_data"
    }
   ],
   "source": [
    "accuracy = fashion_train_dropout.history['acc']\n",
    "val_accuracy = fashion_train_dropout.history['val_acc']\n",
    "loss = fashion_train_dropout.history['loss']\n",
    "val_loss = fashion_train_dropout.history['val_loss']\n",
    "epochs = range(len(accuracy))\n",
    "plt.plot(epochs, accuracy, 'bo', label='Training accuracy')\n",
    "plt.plot(epochs, val_accuracy, 'b', label='Validation accuracy')\n",
    "plt.title('Training and validation accuracy')\n",
    "plt.legend()\n",
    "plt.figure()\n",
    "plt.plot(epochs, loss, 'bo', label='Training loss')\n",
    "plt.plot(epochs, val_loss, 'b', label='Validation loss')\n",
    "plt.title('Training and validation loss')\n",
    "plt.legend()\n",
    "plt.show()"
   ]
  },
  {
   "cell_type": "code",
   "execution_count": 27,
   "metadata": {
    "collapsed": true
   },
   "outputs": [],
   "source": [
    "predicted_classes = fashion_model.predict(test_X)"
   ]
  },
  {
   "cell_type": "code",
   "execution_count": 28,
   "metadata": {
    "collapsed": true
   },
   "outputs": [],
   "source": [
    "predicted_classes = np.argmax(np.round(predicted_classes),axis=1)"
   ]
  },
  {
   "cell_type": "code",
   "execution_count": 29,
   "metadata": {},
   "outputs": [
    {
     "data": {
      "text/plain": [
       "((10000,), (10000,))"
      ]
     },
     "execution_count": 29,
     "metadata": {},
     "output_type": "execute_result"
    }
   ],
   "source": [
    "predicted_classes.shape, test_Y.shape"
   ]
  },
  {
   "cell_type": "code",
   "execution_count": 32,
   "metadata": {},
   "outputs": [
    {
     "name": "stdout",
     "output_type": "stream",
     "text": [
      "Found 9153 correct labels\n"
     ]
    },
    {
     "data": {
      "image/png": "[encoded data removed]",
      "text/plain": [
       "<matplotlib.figure.Figure at 0xb1d6f1e10>"
      ]
     },
     "metadata": {},
     "output_type": "display_data"
    }
   ],
   "source": [
    "correct = np.where(predicted_classes==test_Y)[0]\n",
    "print (\"Found %d correct labels\" % len(correct))\n",
    "for i, correct in enumerate(correct[:9]):\n",
    "    plt.subplot(3,3,i+1)\n",
    "    plt.imshow(test_X[correct].reshape(28,28), cmap='gray', interpolation='none')\n",
    "    plt.title(\"Predicted {}, Class {}\".format(predicted_classes[correct], test_Y[correct]))\n",
    "    plt.tight_layout()"
   ]
  },
  {
   "cell_type": "code",
   "execution_count": 34,
   "metadata": {},
   "outputs": [
    {
     "name": "stdout",
     "output_type": "stream",
     "text": [
      "Found 847 incorrect labels\n"
     ]
    },
    {
     "data": {
      "image/png": "[encoded data removed]",
      "text/plain": [
       "<matplotlib.figure.Figure at 0xb22fdee80>"
      ]
     },
     "metadata": {},
     "output_type": "display_data"
    }
   ],
   "source": [
    "incorrect = np.where(predicted_classes!=test_Y)[0]\n",
    "print (\"Found %d incorrect labels\" % len(incorrect))\n",
    "for i, incorrect in enumerate(incorrect[:9]):\n",
    "    plt.subplot(3,3,i+1)\n",
    "    plt.imshow(test_X[incorrect].reshape(28,28), cmap='gray', interpolation='none')\n",
    "    plt.title(\"Predicted {}, Class {}\".format(predicted_classes[incorrect], test_Y[incorrect]))\n",
    "    plt.tight_layout()"
   ]
  },
  {
   "cell_type": "code",
   "execution_count": 35,
   "metadata": {},
   "outputs": [
    {
     "name": "stdout",
     "output_type": "stream",
     "text": [
      "             precision    recall  f1-score   support\n",
      "\n",
      "    Class 0       0.79      0.90      0.84      1000\n",
      "    Class 1       0.99      0.99      0.99      1000\n",
      "    Class 2       0.83      0.92      0.87      1000\n",
      "    Class 3       0.93      0.90      0.92      1000\n",
      "    Class 4       0.90      0.82      0.86      1000\n",
      "    Class 5       0.99      0.98      0.99      1000\n",
      "    Class 6       0.82      0.71      0.76      1000\n",
      "    Class 7       0.96      0.98      0.97      1000\n",
      "    Class 8       0.99      0.99      0.99      1000\n",
      "    Class 9       0.97      0.97      0.97      1000\n",
      "\n",
      "avg / total       0.92      0.92      0.91     10000\n",
      "\n"
     ]
    }
   ],
   "source": [
    "from sklearn.metrics import classification_report\n",
    "target_names = [\"Class {}\".format(i) for i in range(num_classes)]\n",
    "print(classification_report(test_Y, predicted_classes, target_names=target_names))"
   ]
  },
  {
   "cell_type": "code",
   "execution_count": null,
   "metadata": {
    "collapsed": true
   },
   "outputs": [],
   "source": []
  }
 ],
 "metadata": {
  "kernelspec": {
   "display_name": "Python 3",
   "language": "python",
   "name": "python3"
  },
  "language_info": {
   "codemirror_mode": {
    "name": "ipython",
    "version": 3
   },
   "file_extension": ".py",
   "mimetype": "text/x-python",
   "name": "python",
   "nbconvert_exporter": "python",
   "pygments_lexer": "ipython3",
   "version": "3.6.3"
  }
 },
 "nbformat": 4,
 "nbformat_minor": 2
}
